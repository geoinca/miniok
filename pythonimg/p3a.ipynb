{
 "cells": [
  {
   "cell_type": "code",
   "execution_count": 1,
   "id": "precious-recognition",
   "metadata": {},
   "outputs": [],
   "source": [
    "import sys,os\n",
    "from os import scandir, getcwd\n",
    "from os.path import abspath\n",
    "import cv2\n",
    "import numpy as np\n",
    "import boto3\n",
    "from botocore.client import Config"
   ]
  },
  {
   "cell_type": "code",
   "execution_count": 2,
   "id": "native-exercise",
   "metadata": {},
   "outputs": [],
   "source": [
    "def ls(ruta = getcwd()):\n",
    "    return [abspath(arch.path) for arch in scandir(ruta) if arch.is_file()]"
   ]
  },
  {
   "cell_type": "code",
   "execution_count": 3,
   "id": "cloudy-causing",
   "metadata": {},
   "outputs": [],
   "source": [
    "#from google.colab.patches import cv2_imshow\n",
    "def draw_matches(img1, keypoints1, img2, keypoints2, matches):\n",
    "  r, c = img1.shape[:2]\n",
    "  r1, c1 = img2.shape[:2]\n",
    "\n",
    "  # Create a blank image with the size of the first image + second image\n",
    "  output_img = np.zeros((max([r, r1]), c+c1, 3), dtype='uint8')\n",
    "  output_img[:r, :c, :] = np.dstack([img1, img1, img1])\n",
    "  output_img[:r1, c:c+c1, :] = np.dstack([img2, img2, img2])\n",
    "\n",
    "  # Go over all of the matching points and extract them\n",
    "  for match in matches:\n",
    "    img1_idx = match.queryIdx\n",
    "    img2_idx = match.trainIdx\n",
    "    (x1, y1) = keypoints1[img1_idx].pt\n",
    "    (x2, y2) = keypoints2[img2_idx].pt\n",
    "\n",
    "    # Draw circles on the keypoints\n",
    "    cv2.circle(output_img, (int(x1),int(y1)), 4, (0, 255, 255), 1)\n",
    "    cv2.circle(output_img, (int(x2)+c,int(y2)), 4, (0, 255, 255), 1)\n",
    "\n",
    "    # Connect the same keypoints\n",
    "    cv2.line(output_img, (int(x1),int(y1)), (int(x2)+c,int(y2)), (0, 255, 255), 1)\n",
    "    \n",
    "  return output_img"
   ]
  },
  {
   "cell_type": "code",
   "execution_count": 4,
   "id": "instrumental-cuisine",
   "metadata": {},
   "outputs": [],
   "source": [
    "def warpImages(img1, img2, H):\n",
    "\n",
    "  rows1, cols1 = img1.shape[:2]\n",
    "  rows2, cols2 = img2.shape[:2]\n",
    "\n",
    "  list_of_points_1 = np.float32([[0,0], [0, rows1],[cols1, rows1], [cols1, 0]]).reshape(-1, 1, 2)\n",
    "  temp_points = np.float32([[0,0], [0,rows2], [cols2,rows2], [cols2,0]]).reshape(-1,1,2)\n",
    "\n",
    "  # When we have established a homography we need to warp perspective\n",
    "  # Change field of view\n",
    "  list_of_points_2 = cv2.perspectiveTransform(temp_points, H)\n",
    "\n",
    "  list_of_points = np.concatenate((list_of_points_1,list_of_points_2), axis=0)\n",
    "\n",
    "  [x_min, y_min] = np.int32(list_of_points.min(axis=0).ravel() - 0.5)\n",
    "  [x_max, y_max] = np.int32(list_of_points.max(axis=0).ravel() + 0.5)\n",
    "  \n",
    "  translation_dist = [-x_min,-y_min]\n",
    "  \n",
    "  H_translation = np.array([[1, 0, translation_dist[0]], [0, 1, translation_dist[1]], [0, 0, 1]])\n",
    "\n",
    "  output_img = cv2.warpPerspective(img2, H_translation.dot(H), (x_max-x_min, y_max-y_min))\n",
    "  output_img[translation_dist[1]:rows1+translation_dist[1], translation_dist[0]:cols1+translation_dist[0]] = img1\n",
    "\n",
    "  return output_img\n"
   ]
  },
  {
   "cell_type": "code",
   "execution_count": 5,
   "id": "civilian-thesaurus",
   "metadata": {},
   "outputs": [],
   "source": [
    "s3AccesKey = 'tfq0M5o1QtNOJcP1nizr'\n",
    "s3SecretKey = 'HbO5COQOXR6z3P0jgTVCBzWxkXFPXKsMqoItRzL6'\n",
    "s3EndPointUrl = 'http://argo-artifacts:9000'\n",
    "s3Bucket='infolder'\n",
    "s3BucketOut='outfolder'"
   ]
  },
  {
   "cell_type": "code",
   "execution_count": null,
   "id": "ancient-regulation",
   "metadata": {},
   "outputs": [],
   "source": []
  },
  {
   "cell_type": "code",
   "execution_count": 6,
   "id": "split-bachelor",
   "metadata": {},
   "outputs": [],
   "source": [
    "s3 = boto3.resource('s3',\n",
    "                    endpoint_url=s3EndPointUrl,\n",
    "                    aws_access_key_id=s3AccesKey,\n",
    "                    aws_secret_access_key=s3SecretKey,\n",
    "                    config=Config(signature_version='s3v4'),\n",
    "                    region_name='us-east-1')\n",
    "\n"
   ]
  },
  {
   "cell_type": "code",
   "execution_count": 7,
   "id": "dying-terrorism",
   "metadata": {},
   "outputs": [
    {
     "name": "stdout",
     "output_type": "stream",
     "text": [
      "/home/demo/k8/miniok/pythonimg/tmp/\n"
     ]
    }
   ],
   "source": [
    "mnt_loc = os.getcwd()+\"/tmp/\"\n",
    "print(mnt_loc)"
   ]
  },
  {
   "cell_type": "code",
   "execution_count": 8,
   "id": "pregnant-stock",
   "metadata": {},
   "outputs": [],
   "source": [
    "my_bucket = s3.Bucket(s3Bucket)\n",
    "s3_files = []\n",
    "for object in my_bucket.objects.all():\n",
    "    s3_files.append(object)\n",
    "\n",
    "for elem in s3_files:\n",
    "    s3.Bucket(elem.bucket_name).download_file(elem.key, mnt_loc + elem.key)\n"
   ]
  },
  {
   "cell_type": "code",
   "execution_count": null,
   "id": "nonprofit-server",
   "metadata": {},
   "outputs": [],
   "source": []
  },
  {
   "cell_type": "code",
   "execution_count": 9,
   "id": "decent-patrol",
   "metadata": {},
   "outputs": [],
   "source": [
    "imgWarp=ls(mnt_loc)"
   ]
  },
  {
   "cell_type": "code",
   "execution_count": 10,
   "id": "multiple-theater",
   "metadata": {},
   "outputs": [],
   "source": [
    "imgResult=mnt_loc+\"imgresult01.jpeg\"\n",
    "img1 = cv2.imread(imgWarp[0])\n",
    "img2 = cv2.imread(imgWarp[1])\n",
    "\n",
    "img1_gray = cv2.cvtColor(img1, cv2.COLOR_BGR2GRAY)\n",
    "img2_gray = cv2.cvtColor(img2, cv2.COLOR_BGR2GRAY)\n",
    "\n",
    "orb = cv2.ORB_create(nfeatures=2000)"
   ]
  },
  {
   "cell_type": "code",
   "execution_count": 11,
   "id": "analyzed-survival",
   "metadata": {},
   "outputs": [],
   "source": [
    "# Find the key points and descriptors with ORB\n",
    "keypoints1, descriptors1 = orb.detectAndCompute(img1, None)\n",
    "keypoints2, descriptors2 = orb.detectAndCompute(img2, None)\n",
    "# Create a BFMatcher object.\n",
    "# It will find all of the matching keypoints on two images\n",
    "bf = cv2.BFMatcher_create(cv2.NORM_HAMMING)\n",
    "\n",
    "# Find matching points\n",
    "matches = bf.knnMatch(descriptors1, descriptors2,k=2)\n",
    "#print(keypoints1[0].pt)\n",
    "#print(keypoints1[0].size)\n",
    "#print(\"Descriptor of the first keypoint: \")\n",
    "#print(descriptors1[0])\n",
    "\n",
    "all_matches = []\n",
    "for m, n in matches:\n",
    "  all_matches.append(m)\n",
    "\n",
    "img3 = draw_matches(img1_gray, keypoints1, img2_gray, keypoints2, all_matches[:30])\n",
    "\n",
    "good = []\n",
    "for m, n in matches:\n",
    "    if m.distance < 0.6 * n.distance:\n",
    "        good.append(m)\n",
    "    \n",
    "cv2.drawKeypoints(img1, [keypoints1[m.queryIdx] for m in good], None, (255, 0, 255))\n",
    "\n",
    "MIN_MATCH_COUNT = 5\n",
    "\n",
    "if len(good) > MIN_MATCH_COUNT:\n",
    "    # Convert keypoints to an argument for findHomography\n",
    "    src_pts = np.float32([ keypoints1[m.queryIdx].pt for m in good]).reshape(-1,1,2)\n",
    "    dst_pts = np.float32([ keypoints2[m.trainIdx].pt for m in good]).reshape(-1,1,2)\n",
    "\n",
    "    # Establish a homography\n",
    "    M, _ = cv2.findHomography(src_pts, dst_pts, cv2.RANSAC,5.0)\n",
    "    \n",
    "    result = warpImages(img2, img1, M)\n",
    "    cv2.imwrite(imgResult, result)\n"
   ]
  },
  {
   "cell_type": "code",
   "execution_count": 12,
   "id": "phantom-responsibility",
   "metadata": {},
   "outputs": [],
   "source": [
    "s3.Bucket(s3BucketOut).upload_file(imgResult,'imgresult01.jpeg')"
   ]
  },
  {
   "cell_type": "code",
   "execution_count": null,
   "id": "standing-oracle",
   "metadata": {},
   "outputs": [],
   "source": []
  }
 ],
 "metadata": {
  "kernelspec": {
   "display_name": "Python 3",
   "language": "python",
   "name": "python3"
  },
  "language_info": {
   "codemirror_mode": {
    "name": "ipython",
    "version": 3
   },
   "file_extension": ".py",
   "mimetype": "text/x-python",
   "name": "python",
   "nbconvert_exporter": "python",
   "pygments_lexer": "ipython3",
   "version": "3.6.9"
  }
 },
 "nbformat": 4,
 "nbformat_minor": 5
}
