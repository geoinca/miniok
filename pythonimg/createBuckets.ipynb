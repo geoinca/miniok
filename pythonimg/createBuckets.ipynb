{
 "cells": [
  {
   "cell_type": "code",
   "execution_count": 1,
   "id": "interested-wallet",
   "metadata": {},
   "outputs": [],
   "source": [
    "import boto3\n",
    "from botocore.client import Config"
   ]
  },
  {
   "cell_type": "code",
   "execution_count": 2,
   "id": "enclosed-bracket",
   "metadata": {},
   "outputs": [],
   "source": [
    "s3AccesKey = 'tfq0M5o1QtNOJcP1nizr'\n",
    "s3SecretKey = 'HbO5COQOXR6z3P0jgTVCBzWxkXFPXKsMqoItRzL6'\n",
    "s3EndPointUrl = 'http://argo-artifacts:9000'\n",
    "s3Bucket='infolder'"
   ]
  },
  {
   "cell_type": "code",
   "execution_count": 3,
   "id": "labeled-innocent",
   "metadata": {},
   "outputs": [],
   "source": [
    "s3 = boto3.resource('s3',\n",
    "                    endpoint_url=s3EndPointUrl,\n",
    "                    aws_access_key_id=s3AccesKey,\n",
    "                    aws_secret_access_key=s3SecretKey,\n",
    "                    config=Config(signature_version='s3v4'),\n",
    "                    region_name='us-east-1')\n"
   ]
  },
  {
   "cell_type": "code",
   "execution_count": 4,
   "id": "administrative-vinyl",
   "metadata": {},
   "outputs": [
    {
     "data": {
      "text/plain": [
       "s3.Bucket(name='outfolder')"
      ]
     },
     "execution_count": 4,
     "metadata": {},
     "output_type": "execute_result"
    }
   ],
   "source": [
    "s3.create_bucket(Bucket='artifacts', CreateBucketConfiguration={'LocationConstraint': 'us-east-1'})\n",
    "s3.create_bucket(Bucket='infolder', CreateBucketConfiguration={'LocationConstraint': 'us-east-1'})\n",
    "s3.create_bucket(Bucket='outfolder', CreateBucketConfiguration={'LocationConstraint': 'us-east-1'})"
   ]
  },
  {
   "cell_type": "code",
   "execution_count": 5,
   "id": "false-turner",
   "metadata": {},
   "outputs": [],
   "source": [
    "my_bucket = s3.Bucket(s3Bucket)\n",
    "countObj=0\n",
    "for object_summary in my_bucket.objects.filter(Prefix=\"\"):\n",
    "    countObj+=1"
   ]
  },
  {
   "cell_type": "code",
   "execution_count": 6,
   "id": "dressed-shadow",
   "metadata": {},
   "outputs": [
    {
     "name": "stdout",
     "output_type": "stream",
     "text": [
      "0\n"
     ]
    }
   ],
   "source": [
    "print (countObj)"
   ]
  },
  {
   "cell_type": "code",
   "execution_count": null,
   "id": "rational-parking",
   "metadata": {},
   "outputs": [],
   "source": []
  }
 ],
 "metadata": {
  "kernelspec": {
   "display_name": "Python 3",
   "language": "python",
   "name": "python3"
  },
  "language_info": {
   "codemirror_mode": {
    "name": "ipython",
    "version": 3
   },
   "file_extension": ".py",
   "mimetype": "text/x-python",
   "name": "python",
   "nbconvert_exporter": "python",
   "pygments_lexer": "ipython3",
   "version": "3.6.9"
  }
 },
 "nbformat": 4,
 "nbformat_minor": 5
}
